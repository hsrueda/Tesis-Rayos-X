{
 "cells": [
  {
   "cell_type": "markdown",
   "metadata": {
    "collapsed": true
   },
   "source": [
    "Henry Steven Rueda Corredor. Rayos-X \n"
   ]
  },
  {
   "cell_type": "code",
   "execution_count": 2,
   "metadata": {
    "collapsed": false
   },
   "outputs": [],
   "source": [
    "import numpy as np\n",
    "import numpy.linalg as svd\n",
    "import matplotlib.pyplot as plt\n",
    "import matplotlib.image as mpimg\n",
    "from numpy.linalg import matrix_rank\n",
    "import ternary"
   ]
  },
  {
   "cell_type": "code",
   "execution_count": 3,
   "metadata": {
    "collapsed": false
   },
   "outputs": [],
   "source": [
    "##Carga el archivo fuente, omite el encabezado y coloca los caracteres como Racionales\n",
    "Al=np.loadtxt(\"Al.txt\", skiprows= 41, dtype= float)\n",
    "Na=np.loadtxt(\"Na.txt\", skiprows= 41, dtype= float)\n",
    "Ca=np.loadtxt(\"Ca.txt\", skiprows= 41, dtype= float)\n",
    "Fe=np.loadtxt(\"Fe.txt\", skiprows= 41, dtype= float)\n",
    "Si=np.loadtxt(\"Si.txt\", skiprows= 41, dtype= float)\n",
    "Mg=np.loadtxt(\"Mg.txt\", skiprows= 41, dtype= float)"
   ]
  },
  {
   "cell_type": "code",
   "execution_count": 4,
   "metadata": {
    "collapsed": false
   },
   "outputs": [
    {
     "name": "stdout",
     "output_type": "stream",
     "text": [
      "[[   18.    18.   114. ...,  2171.  2196.  2116.]\n",
      " [   24.    91.   139. ...,  1793.  2154.  2131.]\n",
      " [   21.    48.   739. ...,  1849.  2042.  2173.]\n",
      " ..., \n",
      " [  172.  1782.  2040. ...,    14.    23.    52.]\n",
      " [  273.  1779.  2093. ...,     4.     9.    10.]\n",
      " [ 1550.  2052.  1936. ...,     4.     4.     6.]]\n",
      "[[  6.   4.   5. ...,  34.  37.  29.]\n",
      " [  9.   7.   5. ...,   7.  29.  30.]\n",
      " [  6.   2.   5. ...,  17.  28.  25.]\n",
      " ..., \n",
      " [  2.  27.  33. ...,   4.   7.  13.]\n",
      " [ 14.  43.  21. ...,   2.   5.   2.]\n",
      " [ 48.  38.  26. ...,   2.   2.   1.]]\n",
      "[[  5.   5.   5. ...,  12.  12.  14.]\n",
      " [  5.   6.   4. ...,   6.   8.  12.]\n",
      " [  7.   8.   7. ...,  12.  12.   9.]\n",
      " ..., \n",
      " [ 14.  15.  13. ...,  13.  14.  10.]\n",
      " [ 11.   9.  13. ...,   5.  12.  12.]\n",
      " [ 10.   8.  13. ...,  11.  18.  12.]]\n",
      "[[   9.    8.   26. ...,   52.   43.   32.]\n",
      " [   8.   19.   25. ...,  233.   33.   50.]\n",
      " [   7.    5.  126. ...,  186.   29.   48.]\n",
      " ..., \n",
      " [ 118.   90.   96. ...,    0.    9.   47.]\n",
      " [  15.   52.  117. ...,    0.    2.    5.]\n",
      " [ 153.   50.  200. ...,    2.    1.    1.]]\n",
      "[[ 349.  354.  345. ...,  166.  189.  169.]\n",
      " [ 368.  369.  367. ...,  139.  167.  198.]\n",
      " [ 367.  387.  347. ...,  150.  178.  210.]\n",
      " ..., \n",
      " [ 140.   69.  211. ...,   81.   57.  112.]\n",
      " [ 235.  256.  214. ...,   64.   45.   30.]\n",
      " [ 186.  199.  174. ...,  329.   73.   24.]]\n",
      "[[ 12.  13.  11. ...,  52.  24.  18.]\n",
      " [  6.   9.   3. ...,  72.  56.  11.]\n",
      " [  8.   9.   7. ...,  65.  47.  13.]\n",
      " ..., \n",
      " [ 17.  14.  20. ...,  14.  12.   9.]\n",
      " [ 21.  15.  28. ...,  11.   6.  13.]\n",
      " [ 16.  20.  13. ...,  14.  12.  13.]]\n"
     ]
    }
   ],
   "source": [
    "## Visualización de la matriz\n",
    "print (Al)\n",
    "print (Na)\n",
    "print (Ca)\n",
    "print (Fe)\n",
    "print (Si)\n",
    "print (Mg)"
   ]
  },
  {
   "cell_type": "code",
   "execution_count": 5,
   "metadata": {
    "collapsed": false
   },
   "outputs": [
    {
     "name": "stdout",
     "output_type": "stream",
     "text": [
      "[[  399.   402.   506. ...,  2487.  2501.  2378.]\n",
      " [  420.   501.   543. ...,  2250.  2447.  2432.]\n",
      " [  416.   459.  1231. ...,  2279.  2336.  2478.]\n",
      " ..., \n",
      " [  463.  1997.  2413. ...,   126.   122.   243.]\n",
      " [  569.  2154.  2486. ...,    86.    79.    72.]\n",
      " [ 1963.  2367.  2362. ...,   362.   110.    57.]]\n"
     ]
    }
   ],
   "source": [
    "Suma=Al+Na+Ca+Fe+Si+Mg\n",
    "print (Suma)"
   ]
  },
  {
   "cell_type": "code",
   "execution_count": 6,
   "metadata": {
    "collapsed": false
   },
   "outputs": [
    {
     "name": "stdout",
     "output_type": "stream",
     "text": [
      "568512\n"
     ]
    }
   ],
   "source": [
    "## Da el tamaño de la matriz\n",
    "print (np.size(Al))"
   ]
  },
  {
   "cell_type": "code",
   "execution_count": 7,
   "metadata": {
    "collapsed": false
   },
   "outputs": [
    {
     "name": "stdout",
     "output_type": "stream",
     "text": [
      "(672, 846) (672, 846)\n"
     ]
    }
   ],
   "source": [
    "## Muestra el numero de filas y columnas de la matriz (fila,columna). Del archivo origen leído como (Line,Step)\n",
    "tamaño = Al.shape\n",
    "tamaño2 = Na.shape  \n",
    "print (tamaño,tamaño2)"
   ]
  },
  {
   "cell_type": "code",
   "execution_count": 8,
   "metadata": {
    "collapsed": false
   },
   "outputs": [],
   "source": [
    "fig=plt.figure(figsize=(14,14))\n",
    "plt.subplot(331)\n",
    "plt.imshow(Al)\n",
    "plt.title('Al')\n",
    "plt.colorbar(orientation='horizontal')\n",
    "plt.subplot(332)\n",
    "plt.imshow(Na)\n",
    "plt.title('Na')\n",
    "plt.colorbar(orientation='horizontal')\n",
    "plt.subplot(333)\n",
    "plt.imshow(Ca)\n",
    "plt.title('Ca')\n",
    "plt.colorbar(orientation='horizontal')\n",
    "plt.subplot(334)\n",
    "plt.imshow(Fe)\n",
    "plt.title('Fe')\n",
    "plt.colorbar(orientation='horizontal')\n",
    "plt.subplot(335)\n",
    "plt.imshow(Si)\n",
    "plt.title('Si')\n",
    "plt.colorbar(orientation='horizontal')\n",
    "plt.subplot(336)\n",
    "plt.imshow(Mg)\n",
    "plt.title('Mg')\n",
    "plt.colorbar(orientation='horizontal')\n",
    "#plt.show()\n",
    "plt.savefig('graphs.png')"
   ]
  },
  {
   "cell_type": "code",
   "execution_count": 9,
   "metadata": {
    "collapsed": false
   },
   "outputs": [],
   "source": [
    "figure=plt.figure(figsize=(10,10))\n",
    "imgplot= plt.imshow(Suma,cmap='gray')\n",
    "plt.colorbar(orientation='horizontal')\n",
    "plt.title('Compuesta')\n",
    "plt.savefig('Compuesta.png')"
   ]
  },
  {
   "cell_type": "code",
   "execution_count": 10,
   "metadata": {
    "collapsed": false,
    "scrolled": false
   },
   "outputs": [],
   "source": [
    "figure=plt.figure(figsize=(10,10))\n",
    "imgplot2= plt.imshow(Al)\n",
    "plt.colorbar(orientation='horizontal')\n",
    "plt.title('Al')\n",
    "plt.savefig('Al.png')"
   ]
  },
  {
   "cell_type": "code",
   "execution_count": 11,
   "metadata": {
    "collapsed": false
   },
   "outputs": [
    {
     "data": {
      "text/plain": [
       "array([  18.,   18.,  114., ...,    4.,    4.,    6.])"
      ]
     },
     "execution_count": 11,
     "metadata": {},
     "output_type": "execute_result"
    }
   ],
   "source": [
    "##Realiza la descomposición de una matriz de datos en un solo vector\n",
    "Al.flatten()"
   ]
  },
  {
   "cell_type": "code",
   "execution_count": 12,
   "metadata": {
    "collapsed": false
   },
   "outputs": [
    {
     "name": "stdout",
     "output_type": "stream",
     "text": [
      "[[  18.    6.    5.    9.  349.   12.]\n",
      " [  18.    4.    5.    8.  354.   13.]\n",
      " [ 114.    5.    5.   26.  345.   11.]\n",
      " ..., \n",
      " [   4.    2.   11.    2.  329.   14.]\n",
      " [   4.    2.   18.    1.   73.   12.]\n",
      " [   6.    1.   12.    1.   24.   13.]]\n"
     ]
    }
   ],
   "source": [
    "#Convierte todos los arrays en una nueva matriz \n",
    "Matriz_de_datos=(np.array([Al.flatten(),Na.flatten(),Ca.flatten(),Fe.flatten(),Si.flatten(),Mg.flatten()])).T\n",
    "print (Matriz_de_datos)"
   ]
  },
  {
   "cell_type": "code",
   "execution_count": 13,
   "metadata": {
    "collapsed": false
   },
   "outputs": [
    {
     "name": "stdout",
     "output_type": "stream",
     "text": [
      "(568512, 6)\n"
     ]
    }
   ],
   "source": [
    "# Se debe saber la dimensión de la matriz nueva para de tal manera crear una nueva matriz para realizar la computación\n",
    "print (Matriz_de_datos.shape)"
   ]
  },
  {
   "cell_type": "code",
   "execution_count": 14,
   "metadata": {
    "collapsed": false
   },
   "outputs": [
    {
     "name": "stdout",
     "output_type": "stream",
     "text": [
      "[[ 1.  0.  0.  0.  0. -1.]\n",
      " [ 0.  0.  0.  0.  0.  1.]\n",
      " [ 0.  1.  0.  0.  0. -1.]\n",
      " [ 0.  0.  1. -1.  0.  0.]\n",
      " [ 0.  0.  0.  0.  1.  1.]\n",
      " [ 0.  0.  0.  1.  0.  0.]]\n"
     ]
    }
   ],
   "source": [
    "Matriz_creada= np.loadtxt(\"Matriz creada.txt\", dtype=float).T\n",
    "print (Matriz_creada)"
   ]
  },
  {
   "cell_type": "code",
   "execution_count": 15,
   "metadata": {
    "collapsed": false
   },
   "outputs": [
    {
     "name": "stdout",
     "output_type": "stream",
     "text": [
      "[[  18.    5.    9.    3.  349.  332.]\n",
      " [  18.    5.    8.    5.  354.  335.]\n",
      " [ 114.    5.   26.  -15.  345.  231.]\n",
      " ..., \n",
      " [   4.   11.    2.   12.  329.  316.]\n",
      " [   4.   18.    1.   11.   73.   53.]\n",
      " [   6.   12.    1.   12.   24.    7.]]\n",
      "(568512, 6)\n"
     ]
    }
   ],
   "source": [
    "# Multiplicar la Matriz de datos y la creada \n",
    "Matriz_mineral=np.dot(Matriz_de_datos,Matriz_creada)\n",
    "print (Matriz_mineral)\n",
    "print (Matriz_mineral.shape)"
   ]
  },
  {
   "cell_type": "code",
   "execution_count": 16,
   "metadata": {
    "collapsed": false
   },
   "outputs": [],
   "source": [
    "#La matriz mineral anterior tiene en primera columna A, segunda C tercera F cuarta Mg y Fe quinta Qz, Sexta Plagioclasa\n",
    "# Y se debe extraer cada una para devolver al tamaño original de la matriz\n",
    "A=np.reshape(Matriz_mineral[:,0],Al.shape)\n",
    "C=np.reshape(Matriz_mineral[:,1],Al.shape)\n",
    "F=np.reshape(Matriz_mineral[:,2],Al.shape)\n",
    "Mg_Fe=np.reshape(Matriz_mineral[:,3],Al.shape)\n",
    "Qz=np.reshape(Matriz_mineral[:,4],Al.shape)\n",
    "Plg=np.reshape(Matriz_mineral[:,5],Al.shape)"
   ]
  },
  {
   "cell_type": "code",
   "execution_count": 17,
   "metadata": {
    "collapsed": false
   },
   "outputs": [
    {
     "name": "stdout",
     "output_type": "stream",
     "text": [
      "[[   18.    18.   114. ...,  2171.  2196.  2116.]\n",
      " [   24.    91.   139. ...,  1793.  2154.  2131.]\n",
      " [   21.    48.   739. ...,  1849.  2042.  2173.]\n",
      " ..., \n",
      " [  172.  1782.  2040. ...,    14.    23.    52.]\n",
      " [  273.  1779.  2093. ...,     4.     9.    10.]\n",
      " [ 1550.  2052.  1936. ...,     4.     4.     6.]]\n",
      "[[  5.   5.   5. ...,  12.  12.  14.]\n",
      " [  5.   6.   4. ...,   6.   8.  12.]\n",
      " [  7.   8.   7. ...,  12.  12.   9.]\n",
      " ..., \n",
      " [ 14.  15.  13. ...,  13.  14.  10.]\n",
      " [ 11.   9.  13. ...,   5.  12.  12.]\n",
      " [ 10.   8.  13. ...,  11.  18.  12.]]\n",
      "[[   9.    8.   26. ...,   52.   43.   32.]\n",
      " [   8.   19.   25. ...,  233.   33.   50.]\n",
      " [   7.    5.  126. ...,  186.   29.   48.]\n",
      " ..., \n",
      " [ 118.   90.   96. ...,    0.    9.   47.]\n",
      " [  15.   52.  117. ...,    0.    2.    5.]\n",
      " [ 153.   50.  200. ...,    2.    1.    1.]]\n",
      "[[   3.    5.  -15. ...,    0.  -19.  -14.]\n",
      " [  -2.  -10.  -22. ..., -161.   23.  -39.]\n",
      " [   1.    4. -119. ..., -121.   18.  -35.]\n",
      " ..., \n",
      " [-101.  -76.  -76. ...,   14.    3.  -38.]\n",
      " [   6.  -37.  -89. ...,   11.    4.    8.]\n",
      " [-137.  -30. -187. ...,   12.   11.   12.]]\n",
      "[[ 349.  354.  345. ...,  166.  189.  169.]\n",
      " [ 368.  369.  367. ...,  139.  167.  198.]\n",
      " [ 367.  387.  347. ...,  150.  178.  210.]\n",
      " ..., \n",
      " [ 140.   69.  211. ...,   81.   57.  112.]\n",
      " [ 235.  256.  214. ...,   64.   45.   30.]\n",
      " [ 186.  199.  174. ...,  329.   73.   24.]]\n",
      "[[  332.   335.   231. ..., -1983. -1982. -1932.]\n",
      " [  348.   279.   229. ..., -1653. -1966. -1915.]\n",
      " [  345.   333.  -394. ..., -1694. -1848. -1947.]\n",
      " ..., \n",
      " [  -44. -1701. -1809. ...,    58.    27.    63.]\n",
      " [  -35. -1489. -1871. ...,    57.    29.    10.]\n",
      " [-1326. -1823. -1749. ...,   316.    53.     7.]]\n",
      "(672, 846)\n"
     ]
    }
   ],
   "source": [
    "print (A)\n",
    "print (C)\n",
    "print (F)\n",
    "print (Mg_Fe)\n",
    "print (Qz)\n",
    "print (Plg)\n",
    "print (A.shape)"
   ]
  },
  {
   "cell_type": "code",
   "execution_count": 17,
   "metadata": {
    "collapsed": true
   },
   "outputs": [],
   "source": [
    "fig=plt.figure(figsize=(14,14))\n",
    "plt.subplot(331)\n",
    "plt.imshow(A)\n",
    "plt.title('A')\n",
    "plt.colorbar(orientation='horizontal')\n",
    "plt.subplot(332)\n",
    "plt.imshow(C)\n",
    "plt.title('C')\n",
    "plt.colorbar(orientation='horizontal')\n",
    "plt.subplot(333)\n",
    "plt.imshow(F)\n",
    "plt.title('F')\n",
    "plt.colorbar(orientation='horizontal')\n",
    "plt.subplot(334)\n",
    "plt.imshow(abs(Mg_Fe))\n",
    "plt.title('Mg_Fe')\n",
    "plt.colorbar(orientation='horizontal')\n",
    "plt.subplot(335)\n",
    "plt.imshow(Qz)\n",
    "plt.title('Qz')\n",
    "plt.colorbar(orientation='horizontal')\n",
    "plt.subplot(336)\n",
    "plt.imshow(Plg)\n",
    "plt.title('Plg')\n",
    "plt.colorbar(orientation='horizontal')\n",
    "#plt.show()\n",
    "plt.savefig('Graphs minerals.png')"
   ]
  },
  {
   "cell_type": "code",
   "execution_count": 18,
   "metadata": {
    "collapsed": false
   },
   "outputs": [
    {
     "name": "stdout",
     "output_type": "stream",
     "text": [
      "[[   32.    31.   145. ...,  2235.  2251.  2162.]\n",
      " [   37.   116.   168. ...,  2032.  2195.  2193.]\n",
      " [   35.    61.   872. ...,  2047.  2083.  2230.]\n",
      " ..., \n",
      " [  304.  1887.  2149. ...,    27.    46.   109.]\n",
      " [  299.  1840.  2223. ...,     9.    23.    27.]\n",
      " [ 1713.  2110.  2149. ...,    17.    23.    19.]]\n"
     ]
    }
   ],
   "source": [
    "#Recalcula la matriz A, C y F como porcentaje puntual\n",
    "Suma_2=(A+C+F)\n",
    "print (Suma_2)"
   ]
  },
  {
   "cell_type": "code",
   "execution_count": 19,
   "metadata": {
    "collapsed": false
   },
   "outputs": [
    {
     "name": "stdout",
     "output_type": "stream",
     "text": [
      "[[ 56.25        58.06451613  78.62068966 ...,  97.13646532  97.55664149\n",
      "   97.87234043]\n",
      " [ 64.86486486  78.44827586  82.73809524 ...,  88.23818898  98.13211845\n",
      "   97.17282262]\n",
      " [ 60.          78.68852459  84.74770642 ...,  90.32730826  98.03168507\n",
      "   97.44394619]\n",
      " ..., \n",
      " [ 56.57894737  94.43561208  94.92787343 ...,  51.85185185  50.\n",
      "   47.70642202]\n",
      " [ 91.30434783  96.68478261  94.15204678 ...,  44.44444444  39.13043478\n",
      "   37.03703704]\n",
      " [ 90.48453006  97.25118483  90.08841322 ...,  23.52941176  17.39130435\n",
      "   31.57894737]]\n",
      "[[ 15.625       16.12903226   3.44827586 ...,   0.53691275   0.5330964\n",
      "    0.64754857]\n",
      " [ 13.51351351   5.17241379   2.38095238 ...,   0.29527559   0.36446469\n",
      "    0.54719562]\n",
      " [ 20.          13.1147541    0.80275229 ...,   0.58622374   0.57609217\n",
      "    0.40358744]\n",
      " ..., \n",
      " [  4.60526316   0.79491256   0.60493253 ...,  48.14814815  30.43478261\n",
      "    9.17431193]\n",
      " [  3.67892977   0.48913043   0.58479532 ...,  55.55555556  52.17391304\n",
      "   44.44444444]\n",
      " [  0.58377116   0.37914692   0.60493253 ...,  64.70588235  78.26086957\n",
      "   63.15789474]]\n",
      "[[ 28.125       25.80645161  17.93103448 ...,   2.32662192   1.91026211\n",
      "    1.48011101]\n",
      " [ 21.62162162  16.37931034  14.88095238 ...,  11.46653543   1.50341686\n",
      "    2.27998176]\n",
      " [ 20.           8.19672131  14.44954128 ...,   9.086468     1.39222276\n",
      "    2.15246637]\n",
      " ..., \n",
      " [ 38.81578947   4.76947536   4.46719404 ...,   0.          19.56521739\n",
      "   43.11926606]\n",
      " [  5.01672241   2.82608696   5.26315789 ...,   0.           8.69565217\n",
      "   18.51851852]\n",
      " [  8.93169877   2.36966825   9.30665426 ...,  11.76470588   4.34782609\n",
      "    5.26315789]]\n"
     ]
    }
   ],
   "source": [
    "A_diagrama=np.divide(A*100,Suma_2)\n",
    "C_diagrama=np.divide(C*100,Suma_2)\n",
    "F_diagrama=np.divide(F*100,Suma_2)\n",
    "print (A_diagrama)\n",
    "print (C_diagrama)\n",
    "print (F_diagrama)"
   ]
  },
  {
   "cell_type": "code",
   "execution_count": 20,
   "metadata": {
    "collapsed": false
   },
   "outputs": [
    {
     "name": "stdout",
     "output_type": "stream",
     "text": [
      "[[ 28.125       56.25        15.625     ]\n",
      " [ 25.80645161  58.06451613  16.12903226]\n",
      " [ 17.93103448  78.62068966   3.44827586]\n",
      " ..., \n",
      " [ 11.76470588  23.52941176  64.70588235]\n",
      " [  4.34782609  17.39130435  78.26086957]\n",
      " [  5.26315789  31.57894737  63.15789474]]\n",
      "(568512, 3)\n"
     ]
    }
   ],
   "source": [
    "Matriz_ACF=(np.array([F_diagrama.flatten(),A_diagrama.flatten(),C_diagrama.flatten()])).T\n",
    "print (Matriz_ACF)\n",
    "print (Matriz_ACF.shape)"
   ]
  },
  {
   "cell_type": "code",
   "execution_count": 21,
   "metadata": {
    "collapsed": false
   },
   "outputs": [],
   "source": [
    "#Ternary diagram, cabe aclarar que para la matriz los datos deben ser puestos como FAC\n",
    "scale = 100\n",
    "figure, tax = ternary.figure(scale=scale,)\n",
    "fontsize=20\n",
    "tax.set_title(\"ACF\", fontsize=fontsize)\n",
    "tax.left_axis_label(\"C\",fontsize=fontsize, position=(-0.01,0.05,0),rotation=0)\n",
    "tax.right_axis_label(\"A\", fontsize=fontsize, position=(-0.06,1.12,0),rotation=0)\n",
    "tax.bottom_axis_label(\"F\", fontsize=fontsize, position=(0.93,0.05,0))\n",
    "tax.boundary(linewidth=2.0)\n",
    "tax.gridlines(multiple=10, color=\"blue\")\n",
    "tax.scatter(Matriz_ACF,color='purple', label='Qz, Mg y Fe, Plagioclasa', s=0.2)\n",
    "tax.legend()\n",
    "tax.ticks(axis='lbr', linewidth=1, multiple=10, clockwise=True)\n",
    "#tax.show()\n",
    "plt.savefig('ACF.png')"
   ]
  },
  {
   "cell_type": "markdown",
   "metadata": {},
   "source": [
    "Cálculo del Single Value Decomposition"
   ]
  },
  {
   "cell_type": "code",
   "execution_count": 22,
   "metadata": {
    "collapsed": false
   },
   "outputs": [
    {
     "data": {
      "text/plain": [
       "(568512, 3)"
      ]
     },
     "execution_count": 22,
     "metadata": {},
     "output_type": "execute_result"
    }
   ],
   "source": [
    "Matriz_ACF.shape"
   ]
  },
  {
   "cell_type": "code",
   "execution_count": 18,
   "metadata": {
    "collapsed": false,
    "scrolled": true
   },
   "outputs": [],
   "source": [
    "U,s,V=np.linalg.svd(A)\n",
    "S = np.zeros((A.shape))\n",
    "Vt=np.transpose(V)\n",
    "S[:672, :672] = np.diag(s)"
   ]
  },
  {
   "cell_type": "code",
   "execution_count": 19,
   "metadata": {
    "collapsed": true
   },
   "outputs": [],
   "source": [
    "U1,s1,V1=np.linalg.svd(C)\n",
    "S1 = np.zeros((C.shape))\n",
    "Vt1=np.transpose(V1)\n",
    "S1[:672, :672] = np.diag(s1)"
   ]
  },
  {
   "cell_type": "code",
   "execution_count": 20,
   "metadata": {
    "collapsed": true
   },
   "outputs": [],
   "source": [
    "U2,s2,V2=np.linalg.svd(F)\n",
    "S2 = np.zeros((F.shape))\n",
    "Vt2=np.transpose(V2)\n",
    "S2[:672, :672] = np.diag(s2)"
   ]
  },
  {
   "cell_type": "code",
   "execution_count": null,
   "metadata": {
    "collapsed": true
   },
   "outputs": [],
   "source": []
  }
 ],
 "metadata": {
  "kernelspec": {
   "display_name": "Python 3",
   "language": "python",
   "name": "python3"
  },
  "language_info": {
   "codemirror_mode": {
    "name": "ipython",
    "version": 3
   },
   "file_extension": ".py",
   "mimetype": "text/x-python",
   "name": "python",
   "nbconvert_exporter": "python",
   "pygments_lexer": "ipython3",
   "version": "3.5.1"
  }
 },
 "nbformat": 4,
 "nbformat_minor": 0
}
