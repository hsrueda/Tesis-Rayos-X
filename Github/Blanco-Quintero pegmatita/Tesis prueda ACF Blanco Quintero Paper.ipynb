{
 "cells": [
  {
   "cell_type": "markdown",
   "metadata": {
    "collapsed": true
   },
   "source": [
    "Henry Steven Rueda Corredor. Rayos-X \n"
   ]
  },
  {
   "cell_type": "code",
   "execution_count": 1,
   "metadata": {
    "collapsed": false
   },
   "outputs": [],
   "source": [
    "import numpy as np\n",
    "import numpy.linalg as svd\n",
    "import matplotlib.pyplot as plt\n",
    "import matplotlib.image as mpimg\n",
    "import ternary\n",
    "from numpy.linalg import matrix_rank"
   ]
  },
  {
   "cell_type": "code",
   "execution_count": 2,
   "metadata": {
    "collapsed": false
   },
   "outputs": [],
   "source": [
    "##Carga el archivo fuente, omite el encabezado y coloca los caracteres como Racionales\n",
    "Al=np.loadtxt(\"Al.txt\", skiprows= 41, dtype=float)\n",
    "Na=np.loadtxt(\"Na.txt\", skiprows= 41, dtype= float)\n",
    "Ca=np.loadtxt(\"Ca.txt\", skiprows= 41, dtype= float)\n",
    "Fe=np.loadtxt(\"Fe.txt\", skiprows= 41, dtype= float)\n",
    "Si=np.loadtxt(\"Si.txt\", skiprows= 41, dtype= float)\n",
    "Mg=np.loadtxt(\"Mg.txt\", skiprows= 41, dtype= float)\n",
    "Ba=np.loadtxt(\"Ba.txt\", skiprows= 41, dtype= float)\n",
    "K=np.loadtxt(\"K.txt\", skiprows= 41, dtype= float)"
   ]
  },
  {
   "cell_type": "code",
   "execution_count": 3,
   "metadata": {
    "collapsed": false
   },
   "outputs": [
    {
     "name": "stdout",
     "output_type": "stream",
     "text": [
      "[[  191.   139.   244. ...,  1063.  1047.  1088.]\n",
      " [  126.   130.   122. ...,  1072.  1056.  1016.]\n",
      " [  115.   133.    98. ...,  1042.  1034.  1076.]\n",
      " ..., \n",
      " [  124.   127.   122. ...,   130.   127.   137.]\n",
      " [  115.   115.   116. ...,   125.   136.   129.]\n",
      " [    0.     0.     0. ...,     0.     0.     0.]]\n",
      "[[   4.   21.  125. ...,  140.  110.  111.]\n",
      " [   7.    8.   45. ...,  104.  100.  131.]\n",
      " [   5.    6.    6. ...,  129.  104.  102.]\n",
      " ..., \n",
      " [   7.    5.    3. ...,    4.    5.    3.]\n",
      " [   6.    5.    5. ...,    4.    7.    5.]\n",
      " [   4.    2.    4. ...,    2.    5.    3.]]\n",
      "[[ 37.  29.  45. ...,  45.  70.  57.]\n",
      " [ 35.  42.  29. ...,  57.  50.  49.]\n",
      " [ 41.  47.  36. ...,  65.  76.  69.]\n",
      " ..., \n",
      " [ 36.  41.  31. ...,  41.  34.  39.]\n",
      " [ 40.  39.  42. ...,  32.  28.  32.]\n",
      " [  0.   0.   0. ...,   0.   0.   0.]]\n",
      "[[  1.   4.   7. ...,  13.   9.  13.]\n",
      " [  1.   3.   7. ...,   9.  15.  11.]\n",
      " [  0.   2.   2. ...,  14.  18.  13.]\n",
      " ..., \n",
      " [  3.   1.   3. ...,   1.   1.   1.]\n",
      " [  2.   1.   1. ...,   0.   0.   3.]\n",
      " [  1.   1.   3. ...,   3.   5.   2.]]\n",
      "[[ 2476.  2558.  2394. ...,  1098.  1140.  1049.]\n",
      " [ 2557.  2616.  2499. ...,  1094.  1054.  1091.]\n",
      " [ 2574.  2571.  2577. ...,  1121.  1088.  1129.]\n",
      " ..., \n",
      " [ 2583.  2582.  2585. ...,  2559.  2632.  2546.]\n",
      " [ 2580.  2571.  2589. ...,  2624.  2590.  2571.]\n",
      " [    0.     0.     0. ...,     0.     0.     0.]]\n",
      "[[  98.  102.   94. ...,  145.  155.  150.]\n",
      " [  91.   86.   96. ...,  149.  156.  156.]\n",
      " [  85.   77.   93. ...,  155.  171.  162.]\n",
      " ..., \n",
      " [  91.   98.   84. ...,   73.   75.   95.]\n",
      " [  91.   80.  103. ...,   85.   85.   94.]\n",
      " [   0.    0.    0. ...,    0.    0.    0.]]\n",
      "[[  13.   22.   64. ...,  103.  113.  118.]\n",
      " [   8.    6.   20. ...,  101.  117.   95.]\n",
      " [  13.   10.   14. ...,   86.  104.   86.]\n",
      " ..., \n",
      " [  18.   10.   13. ...,   17.   14.   12.]\n",
      " [   9.    8.   10. ...,   15.   10.   17.]\n",
      " [   9.   13.    7. ...,   10.    6.   14.]]\n",
      "[[  82.   79.   86. ...,  249.  238.  265.]\n",
      " [  77.   71.   84. ...,  249.  293.  279.]\n",
      " [  88.   80.   97. ...,  260.  271.  265.]\n",
      " ..., \n",
      " [  84.   85.   84. ...,   86.   81.   90.]\n",
      " [  78.   75.   81. ...,   86.   82.   75.]\n",
      " [   0.    0.    0. ...,    0.    0.    0.]]\n"
     ]
    }
   ],
   "source": [
    "## Visualización de la matriz\n",
    "print (Al)\n",
    "print (Na)\n",
    "print (Ca)\n",
    "print (Fe)\n",
    "print (Si)\n",
    "print (Mg)\n",
    "print (Ba)\n",
    "print (K)"
   ]
  },
  {
   "cell_type": "code",
   "execution_count": 4,
   "metadata": {
    "collapsed": false
   },
   "outputs": [
    {
     "name": "stdout",
     "output_type": "stream",
     "text": [
      "[[ 2902.  2954.  3059. ...,  2856.  2882.  2851.]\n",
      " [ 2902.  2962.  2902. ...,  2835.  2841.  2828.]\n",
      " [ 2921.  2926.  2923. ...,  2872.  2866.  2902.]\n",
      " ..., \n",
      " [ 2946.  2949.  2925. ...,  2911.  2969.  2923.]\n",
      " [ 2921.  2894.  2947. ...,  2971.  2938.  2926.]\n",
      " [   14.    16.    14. ...,    15.    16.    19.]]\n"
     ]
    }
   ],
   "source": [
    "Suma=Al+Na+Ca+Fe+Si+Mg+Ba+K\n",
    "print (Suma)"
   ]
  },
  {
   "cell_type": "code",
   "execution_count": 5,
   "metadata": {
    "collapsed": false
   },
   "outputs": [
    {
     "name": "stdout",
     "output_type": "stream",
     "text": [
      "577600\n",
      "(760, 760)\n"
     ]
    }
   ],
   "source": [
    "## Da el tamaño de la matriz \n",
    "print (np.size(Al))\n",
    "print (Al.shape)"
   ]
  },
  {
   "cell_type": "code",
   "execution_count": 6,
   "metadata": {
    "collapsed": false
   },
   "outputs": [],
   "source": [
    "fig=plt.figure(figsize=(14,14))\n",
    "plt.subplot(331)\n",
    "plt.imshow(Al,cmap='gist_rainbow_r')\n",
    "plt.title('Al')\n",
    "plt.colorbar(orientation='horizontal')\n",
    "plt.subplot(332)\n",
    "plt.imshow(Na,cmap='gist_rainbow_r')\n",
    "plt.title('Na')\n",
    "plt.colorbar(orientation='horizontal')\n",
    "plt.subplot(333)\n",
    "plt.imshow(Ca,cmap='gist_rainbow_r')\n",
    "plt.title('Ca')\n",
    "plt.colorbar(orientation='horizontal')\n",
    "plt.subplot(334)\n",
    "plt.imshow(Fe,cmap='gist_rainbow_r')\n",
    "plt.title('Fe')\n",
    "plt.colorbar(orientation='horizontal')\n",
    "plt.subplot(335)\n",
    "plt.imshow(Si,cmap='gist_rainbow_r')\n",
    "plt.title('Si')\n",
    "plt.colorbar(orientation='horizontal')\n",
    "plt.subplot(336)\n",
    "plt.imshow(Mg,cmap='gist_rainbow_r')\n",
    "plt.title('Mg')\n",
    "plt.colorbar(orientation='horizontal')\n",
    "plt.subplot(337)\n",
    "plt.imshow(Ba,cmap='gist_rainbow_r')\n",
    "plt.title('Ba')\n",
    "plt.colorbar(orientation='horizontal')\n",
    "plt.subplot(338)\n",
    "plt.imshow(K,cmap='gist_rainbow_r')\n",
    "plt.title('K')\n",
    "plt.colorbar(orientation='horizontal')\n",
    "#plt.show()\n",
    "plt.savefig('graficas.png')\n"
   ]
  },
  {
   "cell_type": "code",
   "execution_count": 7,
   "metadata": {
    "collapsed": false
   },
   "outputs": [],
   "source": [
    "figure=plt.figure(figsize=(10,10))\n",
    "imgplot= plt.imshow(Suma,cmap='gray_r')\n",
    "plt.colorbar(orientation='horizontal')\n",
    "plt.title('Compuesta')\n",
    "plt.savefig('Compuesta.png')"
   ]
  },
  {
   "cell_type": "code",
   "execution_count": 8,
   "metadata": {
    "collapsed": false,
    "scrolled": true
   },
   "outputs": [],
   "source": [
    "figure=plt.figure(figsize=(10,10))\n",
    "imgplot2= plt.imshow(K,cmap='gist_rainbow_r')\n",
    "plt.colorbar(orientation='horizontal')\n",
    "plt.title('K')\n",
    "plt.savefig('K.png')"
   ]
  },
  {
   "cell_type": "code",
   "execution_count": 9,
   "metadata": {
    "collapsed": false
   },
   "outputs": [
    {
     "name": "stderr",
     "output_type": "stream",
     "text": [
      "C:\\Users\\Nataly\\Anaconda3\\lib\\site-packages\\ipykernel\\__main__.py:6: RuntimeWarning: invalid value encountered in less\n"
     ]
    }
   ],
   "source": [
    "Knorm=np.loadtxt(\"K.txt\", skiprows= 41, dtype=float)\n",
    "K.max(), K.min ()\n",
    "vmax=400\n",
    "vmin = 200\n",
    "Knorm[Knorm > vmax] = np.nan\n",
    "Knorm[Knorm< vmin] = np.nan\n",
    "my_cmap = plt.cm.get_cmap()\n",
    "my_cmap.set_under('w')\n",
    "plt.imshow(Suma,cmap='gray')\n",
    "plt.imshow(Knorm,cmap=my_cmap, interpolation='none',vmin=0.01)\n",
    "plt.title('K')\n",
    "plt.savefig('Knorm.png')"
   ]
  },
  {
   "cell_type": "code",
   "execution_count": 10,
   "metadata": {
    "collapsed": true
   },
   "outputs": [],
   "source": [
    "figure=plt.figure(figsize=(10,10))\n",
    "plt.imshow(Ba,cmap='gist_rainbow_r')\n",
    "plt.colorbar(orientation='horizontal')\n",
    "plt.title('Ba')\n",
    "plt.savefig('Ba.png')"
   ]
  },
  {
   "cell_type": "code",
   "execution_count": 11,
   "metadata": {
    "collapsed": false
   },
   "outputs": [
    {
     "name": "stderr",
     "output_type": "stream",
     "text": [
      "C:\\Users\\Nataly\\Anaconda3\\lib\\site-packages\\ipykernel\\__main__.py:5: RuntimeWarning: invalid value encountered in less\n"
     ]
    }
   ],
   "source": [
    "Banorm=np.loadtxt(\"Ba.txt\", skiprows= 41, dtype=float)\n",
    "vmax=320\n",
    "vmin= 24\n",
    "Banorm[Banorm > vmax] = np.nan\n",
    "Banorm[Banorm< vmin] = np.nan\n",
    "my_cmap = plt.cm.get_cmap()\n",
    "my_cmap.set_under('w')\n",
    "plt.imshow(Suma,cmap='gray')\n",
    "plt.imshow(Banorm,cmap=my_cmap, interpolation='none',vmin=0.01)\n",
    "plt.title('Ba')\n",
    "plt.savefig('Banorm.png')"
   ]
  },
  {
   "cell_type": "code",
   "execution_count": 12,
   "metadata": {
    "collapsed": false
   },
   "outputs": [
    {
     "data": {
      "text/plain": [
       "array([ 191.,  139.,  244., ...,    0.,    0.,    0.])"
      ]
     },
     "execution_count": 12,
     "metadata": {},
     "output_type": "execute_result"
    }
   ],
   "source": [
    "##Realiza la descomposición de una matriz de datos en un solo vector\n",
    "Al.flatten()"
   ]
  },
  {
   "cell_type": "code",
   "execution_count": 13,
   "metadata": {
    "collapsed": false
   },
   "outputs": [
    {
     "name": "stdout",
     "output_type": "stream",
     "text": [
      "[[ 191.    4.   37. ...,   98.   13.   82.]\n",
      " [ 139.   21.   29. ...,  102.   22.   79.]\n",
      " [ 244.  125.   45. ...,   94.   64.   86.]\n",
      " ..., \n",
      " [   0.    2.    0. ...,    0.   10.    0.]\n",
      " [   0.    5.    0. ...,    0.    6.    0.]\n",
      " [   0.    3.    0. ...,    0.   14.    0.]]\n"
     ]
    }
   ],
   "source": [
    "#Convierte todos los arrays en una nueva matriz \n",
    "Matriz_de_datos=(np.array([Al.flatten(),Na.flatten(),Ca.flatten(),Fe.flatten(),Si.flatten(),Mg.flatten(),Ba.flatten(),K.flatten()])).T\n",
    "print (Matriz_de_datos)"
   ]
  },
  {
   "cell_type": "code",
   "execution_count": 14,
   "metadata": {
    "collapsed": false
   },
   "outputs": [
    {
     "name": "stdout",
     "output_type": "stream",
     "text": [
      "(577600, 8)\n"
     ]
    }
   ],
   "source": [
    "# Se debe saber la dimensión de la matriz nueva creada para de tal manera crear una nueva matriz para realizar la computación\n",
    "print (Matriz_de_datos.shape)"
   ]
  },
  {
   "cell_type": "code",
   "execution_count": 15,
   "metadata": {
    "collapsed": false
   },
   "outputs": [
    {
     "name": "stdout",
     "output_type": "stream",
     "text": [
      "[[ 1.  0.  0.  0.  0.  0.  0.  0.]\n",
      " [ 0.  0.  1.  0.  0.  0.  0.  0.]\n",
      " [ 0.  0.  0.  1.  0.  0.  0.  0.]\n",
      " [ 0.  0.  0. -1.  0.  1.  0.  0.]\n",
      " [ 0.  0.  0.  0.  1.  0.  0.  0.]\n",
      " [-1.  1. -1.  0.  1.  0.  0.  0.]\n",
      " [ 0. -1.  0.  0.  0.  0.  1.  0.]\n",
      " [ 1.  0.  0.  0. -1.  0. -1.  1.]]\n"
     ]
    }
   ],
   "source": [
    "Matriz_creada= np.loadtxt(\"Matriz creada.txt\", dtype=float)\n",
    "print (Matriz_creada)"
   ]
  },
  {
   "cell_type": "code",
   "execution_count": 16,
   "metadata": {
    "collapsed": false
   },
   "outputs": [
    {
     "name": "stdout",
     "output_type": "stream",
     "text": [
      "[[ 175.   85.  -94. ...,    1.  -69.   82.]\n",
      " [ 116.   80.  -81. ...,    4.  -57.   79.]\n",
      " [ 236.   30.   31. ...,    7.  -22.   86.]\n",
      " ..., \n",
      " [   0.  -10.    2. ...,    3.   10.    0.]\n",
      " [   0.   -6.    5. ...,    5.    6.    0.]\n",
      " [   0.  -14.    3. ...,    2.   14.    0.]]\n",
      "(577600, 8)\n"
     ]
    }
   ],
   "source": [
    "# Multiplicar la Matriz de datos y la creada \n",
    "Matriz_mineral=np.dot(Matriz_de_datos,Matriz_creada)\n",
    "print (Matriz_mineral)\n",
    "print (Matriz_mineral.shape)"
   ]
  },
  {
   "cell_type": "code",
   "execution_count": 17,
   "metadata": {
    "collapsed": false
   },
   "outputs": [],
   "source": [
    "#La matriz mineral anterior tiene en primera columna A, segunda C tercera F cuarta Mg y Fe quinta Qz, Sexta Plagioclasa\n",
    "# Y se debe extraer cada una para devolver al tamaño original de la matriz\n",
    "A=np.reshape(Matriz_mineral[:,0],Al.shape)\n",
    "C=np.reshape(Matriz_mineral[:,1],Al.shape)\n",
    "F=np.reshape(Matriz_mineral[:,2],Al.shape)\n",
    "Mg_Fe=np.reshape(Matriz_mineral[:,3],Al.shape)\n",
    "Qz=np.reshape(Matriz_mineral[:,4],Al.shape)\n",
    "Plg=np.reshape(Matriz_mineral[:,5],Al.shape)\n",
    "KNa=np.reshape(Matriz_mineral[:,6],Al.shape)\n",
    "BaAlSiK=np.reshape(Matriz_mineral[:,7],Al.shape)"
   ]
  },
  {
   "cell_type": "code",
   "execution_count": 18,
   "metadata": {
    "collapsed": false
   },
   "outputs": [
    {
     "name": "stdout",
     "output_type": "stream",
     "text": [
      "[[  175.   116.   236. ...,  1167.  1130.  1203.]\n",
      " [  112.   115.   110. ...,  1172.  1193.  1139.]\n",
      " [  118.   136.   102. ...,  1147.  1134.  1179.]\n",
      " ..., \n",
      " [  117.   114.   122. ...,   143.   133.   132.]\n",
      " [  102.   110.    94. ...,   126.   133.   110.]\n",
      " [    0.     0.     0. ...,     0.     0.     0.]]\n",
      "[[ 85.  80.  30. ...,  42.  42.  32.]\n",
      " [ 83.  80.  76. ...,  48.  39.  61.]\n",
      " [ 72.  67.  79. ...,  69.  67.  76.]\n",
      " ..., \n",
      " [ 73.  88.  71. ...,  56.  61.  83.]\n",
      " [ 82.  72.  93. ...,  70.  75.  77.]\n",
      " [ -9. -13.  -7. ..., -10.  -6. -14.]]\n",
      "[[-94. -81.  31. ...,  -5. -45. -39.]\n",
      " [-84. -78. -51. ..., -45. -56. -25.]\n",
      " [-80. -71. -87. ..., -26. -67. -60.]\n",
      " ..., \n",
      " [-84. -93. -81. ..., -69. -70. -92.]\n",
      " [-85. -75. -98. ..., -81. -78. -89.]\n",
      " [  4.   2.   4. ...,   2.   5.   3.]]\n",
      "[[ 36.  25.  38. ...,  32.  61.  44.]\n",
      " [ 34.  39.  22. ...,  48.  35.  38.]\n",
      " [ 41.  45.  34. ...,  51.  58.  56.]\n",
      " ..., \n",
      " [ 33.  40.  28. ...,  40.  33.  38.]\n",
      " [ 38.  38.  41. ...,  32.  28.  29.]\n",
      " [ -1.  -1.  -3. ...,  -3.  -5.  -2.]]\n",
      "[[ 2492.  2581.  2402. ...,   994.  1057.   934.]\n",
      " [ 2571.  2631.  2511. ...,   994.   917.   968.]\n",
      " [ 2571.  2568.  2573. ...,  1016.   988.  1026.]\n",
      " ..., \n",
      " [ 2590.  2595.  2585. ...,  2546.  2626.  2551.]\n",
      " [ 2593.  2576.  2611. ...,  2623.  2593.  2590.]\n",
      " [    0.     0.     0. ...,     0.     0.     0.]]\n",
      "[[  1.   4.   7. ...,  13.   9.  13.]\n",
      " [  1.   3.   7. ...,   9.  15.  11.]\n",
      " [  0.   2.   2. ...,  14.  18.  13.]\n",
      " ..., \n",
      " [  3.   1.   3. ...,   1.   1.   1.]\n",
      " [  2.   1.   1. ...,   0.   0.   3.]\n",
      " [  1.   1.   3. ...,   3.   5.   2.]]\n",
      "[[ -69.  -57.  -22. ..., -146. -125. -147.]\n",
      " [ -69.  -65.  -64. ..., -148. -176. -184.]\n",
      " [ -75.  -70.  -83. ..., -174. -167. -179.]\n",
      " ..., \n",
      " [ -66.  -75.  -71. ...,  -69.  -67.  -78.]\n",
      " [ -69.  -67.  -71. ...,  -71.  -72.  -58.]\n",
      " [   9.   13.    7. ...,   10.    6.   14.]]\n",
      "[[  82.   79.   86. ...,  249.  238.  265.]\n",
      " [  77.   71.   84. ...,  249.  293.  279.]\n",
      " [  88.   80.   97. ...,  260.  271.  265.]\n",
      " ..., \n",
      " [  84.   85.   84. ...,   86.   81.   90.]\n",
      " [  78.   75.   81. ...,   86.   82.   75.]\n",
      " [   0.    0.    0. ...,    0.    0.    0.]]\n",
      "(760, 760)\n"
     ]
    }
   ],
   "source": [
    "print (A)\n",
    "print (C)\n",
    "print (F)\n",
    "print (Mg_Fe)\n",
    "print (Qz)\n",
    "print (Plg)\n",
    "print (KNa)\n",
    "print (BaAlSiK)\n",
    "print (A.shape)"
   ]
  },
  {
   "cell_type": "code",
   "execution_count": 19,
   "metadata": {
    "collapsed": false
   },
   "outputs": [
    {
     "name": "stdout",
     "output_type": "stream",
     "text": [
      "[[ -56.62650602  105.42168675   51.20481928]\n",
      " [ -70.43478261  100.86956522   69.56521739]\n",
      " [  10.43771044   79.46127946   10.1010101 ]\n",
      " ..., \n",
      " [ -25.           -0.          125.        ]\n",
      " [-500.           -0.          600.        ]\n",
      " [ -27.27272727   -0.          127.27272727]]\n",
      "(577600, 3)\n"
     ]
    },
    {
     "name": "stderr",
     "output_type": "stream",
     "text": [
      "C:\\Users\\Nataly\\Anaconda3\\lib\\site-packages\\ipykernel\\__main__.py:2: RuntimeWarning: divide by zero encountered in true_divide\n",
      "  from ipykernel import kernelapp as app\n",
      "C:\\Users\\Nataly\\Anaconda3\\lib\\site-packages\\ipykernel\\__main__.py:2: RuntimeWarning: invalid value encountered in true_divide\n",
      "  from ipykernel import kernelapp as app\n",
      "C:\\Users\\Nataly\\Anaconda3\\lib\\site-packages\\ipykernel\\__main__.py:3: RuntimeWarning: divide by zero encountered in true_divide\n",
      "  app.launch_new_instance()\n",
      "C:\\Users\\Nataly\\Anaconda3\\lib\\site-packages\\ipykernel\\__main__.py:4: RuntimeWarning: divide by zero encountered in true_divide\n"
     ]
    }
   ],
   "source": [
    "Suma_2=(A+C+F)\n",
    "A_diagrama=np.divide(A*100,Suma_2)\n",
    "C_diagrama=np.divide(C*100,Suma_2)\n",
    "F_diagrama=np.divide(F*100,Suma_2)\n",
    "Matriz_ACF=(np.array([F_diagrama.flatten(),A_diagrama.flatten(),C_diagrama.flatten()])).T\n",
    "print (Matriz_ACF)\n",
    "print (Matriz_ACF.shape)"
   ]
  },
  {
   "cell_type": "code",
   "execution_count": 1,
   "metadata": {
    "collapsed": false
   },
   "outputs": [
    {
     "ename": "NameError",
     "evalue": "name 'ternary' is not defined",
     "output_type": "error",
     "traceback": [
      "\u001b[1;31m---------------------------------------------------------------------------\u001b[0m",
      "\u001b[1;31mNameError\u001b[0m                                 Traceback (most recent call last)",
      "\u001b[1;32m<ipython-input-1-ebf399d56693>\u001b[0m in \u001b[0;36m<module>\u001b[1;34m()\u001b[0m\n\u001b[0;32m      1\u001b[0m \u001b[1;31m#Ternary diagram, cabe aclarar que para la matriz los datos deben ser puestos como FAC\u001b[0m\u001b[1;33m\u001b[0m\u001b[1;33m\u001b[0m\u001b[0m\n\u001b[0;32m      2\u001b[0m \u001b[0mscale\u001b[0m \u001b[1;33m=\u001b[0m \u001b[1;36m100\u001b[0m\u001b[1;33m\u001b[0m\u001b[0m\n\u001b[1;32m----> 3\u001b[1;33m \u001b[0mfigure\u001b[0m\u001b[1;33m,\u001b[0m \u001b[0mtax\u001b[0m \u001b[1;33m=\u001b[0m \u001b[0mternary\u001b[0m\u001b[1;33m.\u001b[0m\u001b[0mfigure\u001b[0m\u001b[1;33m(\u001b[0m\u001b[0mscale\u001b[0m\u001b[1;33m=\u001b[0m\u001b[0mscale\u001b[0m\u001b[1;33m,\u001b[0m\u001b[1;33m)\u001b[0m\u001b[1;33m\u001b[0m\u001b[0m\n\u001b[0m\u001b[0;32m      4\u001b[0m \u001b[0mfontsize\u001b[0m\u001b[1;33m=\u001b[0m\u001b[1;36m20\u001b[0m\u001b[1;33m\u001b[0m\u001b[0m\n\u001b[0;32m      5\u001b[0m \u001b[0mtax\u001b[0m\u001b[1;33m.\u001b[0m\u001b[0mset_title\u001b[0m\u001b[1;33m(\u001b[0m\u001b[1;34m\"ACF\"\u001b[0m\u001b[1;33m,\u001b[0m \u001b[0mfontsize\u001b[0m\u001b[1;33m=\u001b[0m\u001b[0mfontsize\u001b[0m\u001b[1;33m)\u001b[0m\u001b[1;33m\u001b[0m\u001b[0m\n",
      "\u001b[1;31mNameError\u001b[0m: name 'ternary' is not defined"
     ]
    }
   ],
   "source": [
    "#Ternary diagram, cabe aclarar que para la matriz los datos deben ser puestos como FAC\n",
    "scale = 100\n",
    "figure, tax = ternary.figure(scale=scale,)\n",
    "fontsize=20\n",
    "tax.set_title(\"ACF\", fontsize=fontsize)\n",
    "tax.left_axis_label(\"C\",fontsize=fontsize, position=(-0.01,0.05,0),rotation=0)\n",
    "tax.right_axis_label(\"A\", fontsize=fontsize, position=(-0.06,1.12,0),rotation=0)\n",
    "tax.bottom_axis_label(\"F\", fontsize=fontsize, position=(0.93,0.05,0))\n",
    "tax.boundary(linewidth=2.0)\n",
    "tax.gridlines(multiple=10, color=\"blue\")\n",
    "tax.scatter(Matriz_ACF,color='purple', label='Qz, Mg y Fe, Plagioclasa', s=0.2)\n",
    "tax.legend()\n",
    "tax.ticks(axis='lbr', linewidth=1, multiple=10, clockwise=True)\n",
    "#tax.show()\n",
    "plt.savefig('ACF.png')"
   ]
  },
  {
   "cell_type": "markdown",
   "metadata": {},
   "source": [
    "Cálculo del Single Value Decomposition"
   ]
  },
  {
   "cell_type": "code",
   "execution_count": null,
   "metadata": {
    "collapsed": true
   },
   "outputs": [],
   "source": []
  }
 ],
 "metadata": {
  "kernelspec": {
   "display_name": "Python 3",
   "language": "python",
   "name": "python3"
  },
  "language_info": {
   "codemirror_mode": {
    "name": "ipython",
    "version": 3
   },
   "file_extension": ".py",
   "mimetype": "text/x-python",
   "name": "python",
   "nbconvert_exporter": "python",
   "pygments_lexer": "ipython3",
   "version": "3.5.1"
  }
 },
 "nbformat": 4,
 "nbformat_minor": 0
}
