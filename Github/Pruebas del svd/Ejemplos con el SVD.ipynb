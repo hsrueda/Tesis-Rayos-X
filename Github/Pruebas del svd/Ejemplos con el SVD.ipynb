{
 "cells": [
  {
   "cell_type": "code",
   "execution_count": 2,
   "metadata": {
    "collapsed": true
   },
   "outputs": [],
   "source": [
    "import numpy as np\n",
    "import matplotlib.pyplot as plt"
   ]
  },
  {
   "cell_type": "code",
   "execution_count": 3,
   "metadata": {
    "collapsed": false
   },
   "outputs": [
    {
     "name": "stdout",
     "output_type": "stream",
     "text": [
      "[[ 1.    1.    1.  ]\n",
      " [ 0.    0.25  0.5 ]\n",
      " [ 0.    0.75  1.5 ]]\n"
     ]
    }
   ],
   "source": [
    "A=np.loadtxt(\"PruebaSVD2.txt\",dtype=float)\n",
    "print (A)"
   ]
  },
  {
   "cell_type": "code",
   "execution_count": 4,
   "metadata": {
    "collapsed": false
   },
   "outputs": [
    {
     "name": "stdout",
     "output_type": "stream",
     "text": [
      "9 (3, 3)\n"
     ]
    }
   ],
   "source": [
    "print (np.size(A),A.shape)"
   ]
  },
  {
   "cell_type": "code",
   "execution_count": 5,
   "metadata": {
    "collapsed": false
   },
   "outputs": [
    {
     "name": "stdout",
     "output_type": "stream",
     "text": [
      "[[  1.00000000e+00   1.00000000e+00   1.00000000e+00]\n",
      " [  1.66533454e-16   2.50000000e-01   5.00000000e-01]\n",
      " [  4.44089210e-16   7.50000000e-01   1.50000000e+00]]\n"
     ]
    }
   ],
   "source": [
    "U,s,V=np.linalg.svd(A)\n",
    "assert np.allclose(A,np.dot(U,np.dot(np.diag(s),V)))\n",
    "s[2:]=0\n",
    "B=np.dot(U,np.dot(np.diag(s),V))\n",
    "print (B)\n",
    "plt.plot(B)\n",
    "plt.show()"
   ]
  },
  {
   "cell_type": "code",
   "execution_count": 6,
   "metadata": {
    "collapsed": false
   },
   "outputs": [
    {
     "name": "stdout",
     "output_type": "stream",
     "text": [
      "[[ 0.6977309   0.71635995  0.        ]\n",
      " [ 0.22653291 -0.22064189 -0.9486833 ]\n",
      " [ 0.67959872 -0.66192566  0.31622777]]\n"
     ]
    }
   ],
   "source": [
    "print (U)"
   ]
  },
  {
   "cell_type": "code",
   "execution_count": 7,
   "metadata": {
    "collapsed": false
   },
   "outputs": [
    {
     "name": "stdout",
     "output_type": "stream",
     "text": [
      "[ 2.33131543  0.83064336  0.        ]\n"
     ]
    }
   ],
   "source": [
    "print (s)"
   ]
  },
  {
   "cell_type": "code",
   "execution_count": 8,
   "metadata": {
    "collapsed": false
   },
   "outputs": [
    {
     "name": "stdout",
     "output_type": "stream",
     "text": [
      "[[ 0.29928636  0.54221027  0.78513419]\n",
      " [ 0.8624158   0.19834655 -0.46572271]\n",
      " [ 0.40824829 -0.81649658  0.40824829]]\n"
     ]
    }
   ],
   "source": [
    "print (V)"
   ]
  },
  {
   "cell_type": "code",
   "execution_count": null,
   "metadata": {
    "collapsed": true
   },
   "outputs": [],
   "source": []
  }
 ],
 "metadata": {
  "kernelspec": {
   "display_name": "Python 3",
   "language": "python",
   "name": "python3"
  },
  "language_info": {
   "codemirror_mode": {
    "name": "ipython",
    "version": 3
   },
   "file_extension": ".py",
   "mimetype": "text/x-python",
   "name": "python",
   "nbconvert_exporter": "python",
   "pygments_lexer": "ipython3",
   "version": "3.5.1"
  }
 },
 "nbformat": 4,
 "nbformat_minor": 0
}
